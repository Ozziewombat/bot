{
  "nbformat": 4,
  "nbformat_minor": 0,
  "metadata": {
    "colab": {
      "name": "Colab Windows VNC by fb.com/thuong.hai.581.ipynb",
      "provenance": [],
      "collapsed_sections": [],
      "include_colab_link": true
    },
    "kernelspec": {
      "name": "python3",
      "display_name": "Python 3"
    },
    "language_info": {
      "name": "python"
    }
  },
  "cells": [
    {
      "cell_type": "markdown",
      "metadata": {
        "id": "view-in-github",
        "colab_type": "text"
      },
      "source": [
        "<a href=\"https://colab.research.google.com/github/Ozziewombat/bot/blob/main/Colab_Windows_VNC_by_fb_com_thuong_hai_581.ipynb\" target=\"_parent\"><img src=\"https://colab.research.google.com/assets/colab-badge.svg\" alt=\"Open In Colab\"/></a>"
      ]
    },
    {
      "cell_type": "markdown",
      "metadata": {
        "id": "qvlZpjtVUBqc"
      },
      "source": [
        "Windows running on goole colab with QEMU-KVM:\n",
        "\n",
        "- Requirement: \n",
        "  + VNC Viewer: https://www.realvnc.com/en/connect/download/viewer/\n",
        "  + Ngrok Token: https://dashboard.ngrok.com/get-started/your-authtoken"
      ]
    },
    {
      "cell_type": "code",
      "metadata": {
        "id": "zPuYqJaFS6tZ",
        "colab": {
          "base_uri": "https://localhost:8080/"
        },
        "outputId": "eaac90e5-f2de-4421-95d5-8b4a5fe536c6"
      },
      "source": [
        "#@title **Windows 10 Lite x64 2cpu/8gb**\n",
        "#@markdown Play it and wait until finished!\n",
        "!wget https://github.com/kmille36/Linux-to-Windows-with-QEMU/raw/master/Linux_QemuWindows10ColabNoVT-X.sh > /dev/null 2>&1\n",
        "!chmod +x Linux_QemuWindows10ColabNoVT-X.sh\n",
        "!./Linux_QemuWindows10ColabNoVT-X.sh"
      ],
      "execution_count": null,
      "outputs": [
        {
          "output_type": "stream",
          "name": "stdout",
          "text": [
            "Paste authtoken here (Copy and Ctrl+V to paste then press Enter): 1sUCvfwYspsVyivTq26xbdY40Di_2PjC4ZUNp1KXPi3Dk9nfL\n",
            "Authtoken saved to configuration file: /root/.ngrok2/ngrok.yml\n",
            "Please wait for installing...\n",
            "Installing QEMU (2-3m)...\n",
            "Downloading Windows Disk...\n",
            "  % Total    % Received % Xferd  Average Speed   Time    Time     Time  Current\n",
            "                                 Dload  Upload   Total   Spent    Left  Speed\n",
            "100   167    0   167    0     0    769      0 --:--:-- --:--:-- --:--:--   769\n",
            "100   300    0   300    0     0    779      0 --:--:-- --:--:-- --:--:--   779\n",
            "100   870  100   870    0     0   1469      0 --:--:-- --:--:-- --:--:--  1469\n",
            "100 3876M  100 3876M    0     0  36.4M      0  0:01:46  0:01:46 --:--:-- 26.8M\n",
            "Windows 10 x64 Lite On Google Colab\n",
            "Your VNC IP Address:\n",
            "8.tcp.ngrok.io:18994\n",
            "Note: Use Right-Click Or Ctrl+C To Copy\n",
            "Please Keep Colab Tab Open, Maximum Time 12h\n",
            "Script by fb.com/thuong.hai.581\n"
          ]
        }
      ]
    },
    {
      "cell_type": "code",
      "metadata": {
        "cellView": "form",
        "id": "ENpd-zmzlu8k"
      },
      "source": [
        "#@title **Windows 7 Lite x86 2cpu/8gb**\n",
        "#@markdown Play it and wait until finished!\n",
        "!wget https://github.com/kmille36/Linux-to-Windows-with-QEMU/raw/master/Linux_QemuWindows7ColabNoVT-X.sh > /dev/null 2>&1\n",
        "!chmod +x Linux_QemuWindows7ColabNoVT-X.sh\n",
        "!./Linux_QemuWindows7ColabNoVT-X.sh"
      ],
      "execution_count": null,
      "outputs": []
    },
    {
      "cell_type": "code",
      "metadata": {
        "id": "q8Wz13L9Qho0",
        "cellView": "form"
      },
      "source": [
        "#@title **Windows XP x86 2cpu/8gb**\n",
        "#@markdown Play it and wait until finished!\n",
        "!wget https://github.com/kmille36/Linux-to-Windows-with-QEMU/raw/master/Linux_QemuWindowsXPColabNoVT-X.sh > /dev/null 2>&1\n",
        "!chmod +x Linux_QemuWindowsXPColabNoVT-X.sh\n",
        "!./Linux_QemuWindowsXPColabNoVT-X.sh"
      ],
      "execution_count": null,
      "outputs": []
    }
  ]
}